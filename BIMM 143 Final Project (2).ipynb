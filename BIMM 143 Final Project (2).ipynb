{
 "cells": [
  {
   "cell_type": "markdown",
   "metadata": {},
   "source": [
    "### Scientific Question: Does SARS-CoV-2 affect pangolin gene sequences the same?"
   ]
  },
  {
   "cell_type": "markdown",
   "metadata": {},
   "source": [
    "SARS-CoV-2 is a respiratory zoonotic viral illness that is theorized to have originated in bats. Over time, antigenic shift mutations have caused the virus to allow infections of other animals, one of them being pangolins. \n",
    "\n",
    "One of the effects of SARS-CoV-2 is a change in the genetic sequences of specific regions in the Pangolin gene. Specifically, the IFIH1 helicase C domain, the ZBP1 domain, as well as in ACE and ACE2 receptors. (https://www.ncbi.nlm.nih.gov/pmc/articles/PMC7225364/) \n",
    "\n",
    "Studies have been done to try and understand why pangolins were better equipped to tolerate SARS-CoV-2 as opposed to humans, which used BLAST sequences of different species of pangolins, as well as comparisons to other mammals.\n"
   ]
  },
  {
   "cell_type": "markdown",
   "metadata": {},
   "source": [
    "### Scientific Hypothesis: Pangolins can have different immune responses to SARS-CoV-2 depending on the species of Pangolin, due to differences in the ACE2, ACE, IFIH1, and ZPB1 gene regions. \n"
   ]
  },
  {
   "cell_type": "markdown",
   "metadata": {},
   "source": [
    "To try and answer the question, as well as to test the hypothesis, I used several studies done on pangolins that tested the immune response of different species of pangolin, (https://www.ncbi.nlm.nih.gov/pmc/articles/PMC7225364/),(https://www.ncbi.nlm.nih.gov/pmc/articles/PMC5052048/), where the first article used BLAST to find similarities between different sequences of of IHIH1 and ZBP1 between different mammals and other species of pangolins while the second article was able analyzed the development of IFNE which is used in mucosal immunity which plays a part in the respiratory immune defense. \n",
    "\n",
    "In order to do formulate something similiar to the study, instead of using the IFIH1 helicase C domain or the ZBP1 domain, I looked in gene changes based on the information present on BLAST, which included proteins present in the mitochondria, as well as a part of the genetic sequences found in the ACE2 receptor. I did a comparison of the Chinese Pangolin to the Malayan Pangolin."
   ]
  },
  {
   "cell_type": "markdown",
   "metadata": {},
   "source": [
    "# NADH Dehydrogenase Subunit 1 Sequence Comparison of Malayan vs Chinese Pangolin"
   ]
  },
  {
   "cell_type": "code",
   "execution_count": 6,
   "metadata": {},
   "outputs": [],
   "source": [
    "from Bio import pairwise2\n",
    "alignments = pairwise2.align.globalxx(\"MYTINMMMMIIPILLAVAFLTLVERKVLGYMQLRKGPNIVGPWGLLQPIADAVKLFTKEPLRPLTSSITMFIMAPILALTLALTMWVPLPMPHPLVNMNLGVLFMLAMSSLAVYSILWSGWASNSKYALIGALRAVAQTISYEVTLAIILLSLLLMSGSFTLSTLITTQEKLWLLVPAWPLAMMWFISTLAETNRAPFDLTEGESELVSGFNVEYAAGPFALFFLAEYANIIMMNILSVTLFMGAFHDPHTPSLYTVNFVVKTLALTALFLWIRASYPRFRYDQLMHLLWKNFLPLTLALCMWHVSMPIALSSIPPQS\", \"MYTINMMMMIIPILLAVAFLTLVERKVLGYMQLRKGPNIVGPWGLLQPIADAVKLFTKEPLRPLTSSITMFIMAPILALTLALTMWVPLPMPHPLVNMNLGVLFMLAMSSLAVYSILWSGWASNSKYALIGALRAVAQTISYEVTLAIILLSLLLMSGSFTLSTLITTQEKLWLLVPAWPLAMMWFISTLAETNRAPFDLTEGESELVSGFNVEYAAGPFALFFLAEYANIIMMNILSVTLFMGAFHDPHTPSLYTVNFVVKTLALTALFLWIRASYPRFRYDQLMHLLWKNFLPLTLALCMWHVSMPIALSSIPPQS\") "
   ]
  },
  {
   "cell_type": "code",
   "execution_count": 7,
   "metadata": {
    "scrolled": true
   },
   "outputs": [
    {
     "name": "stdout",
     "output_type": "stream",
     "text": [
      "MYTINMMMMIIPILLAVAFLTLVERKVLGYMQLRKGPNIVGPWGLLQPIADAVKLFTKEPLRPLTSSITMFIMAPILALTLALTMWVPLPMPHPLVNMNLGVLFMLAMSSLAVYSILWSGWASNSKYALIGALRAVAQTISYEVTLAIILLSLLLMSGSFTLSTLITTQEKLWLLVPAWPLAMMWFISTLAETNRAPFDLTEGESELVSGFNVEYAAGPFALFFLAEYANIIMMNILSVTLFMGAFHDPHTPSLYTVNFVVKTLALTALFLWIRASYPRFRYDQLMHLLWKNFLPLTLALCMWHVSMPIALSSIPPQS\n",
      "||||||||||||||||||||||||||||||||||||||||||||||||||||||||||||||||||||||||||||||||||||||||||||||||||||||||||||||||||||||||||||||||||||||||||||||||||||||||||||||||||||||||||||||||||||||||||||||||||||||||||||||||||||||||||||||||||||||||||||||||||||||||||||||||||||||||||||||||||||||||||||||||||||||||||||||||||||||||||||||\n",
      "MYTINMMMMIIPILLAVAFLTLVERKVLGYMQLRKGPNIVGPWGLLQPIADAVKLFTKEPLRPLTSSITMFIMAPILALTLALTMWVPLPMPHPLVNMNLGVLFMLAMSSLAVYSILWSGWASNSKYALIGALRAVAQTISYEVTLAIILLSLLLMSGSFTLSTLITTQEKLWLLVPAWPLAMMWFISTLAETNRAPFDLTEGESELVSGFNVEYAAGPFALFFLAEYANIIMMNILSVTLFMGAFHDPHTPSLYTVNFVVKTLALTALFLWIRASYPRFRYDQLMHLLWKNFLPLTLALCMWHVSMPIALSSIPPQS\n",
      "  Score=318\n",
      "\n"
     ]
    }
   ],
   "source": [
    "from Bio.pairwise2 import format_alignment\n",
    "print(format_alignment(*alignments[0]))"
   ]
  },
  {
   "cell_type": "markdown",
   "metadata": {},
   "source": [
    "# Cytochrome C Oxidase Subunit 1 Sequence Comparison of Malayan vs Chinese Pangolin"
   ]
  },
  {
   "cell_type": "code",
   "execution_count": 28,
   "metadata": {},
   "outputs": [],
   "source": [
    "alignments = pairwise2.align.globalxx(\"MFTNRWLFSTNHKDIGTLYLLFGAWAGMVGTALSLLIRAELGQPGTLLGDDQIYNVIVTAHAFVMIFFMVMPIMIGGFGNWLVPLMIGAPDMAFPRMNNMSFWLLPPSFLLLLASSMVEAGAGTGWTVYPPLAGNLAHAGASVDLTIFSLHLAGVSSILGAINFITTIINMKPPAMNQYQTPLFVWSVLITAVLLLLSLPVLAAGITMLLTDRNLNTTFFDPAGGGDPILYQHLFWFFGHPEVYILILPGFGMISHIVTYYSGKKEPFGYMGMVWAMMSIGFLGFIVWAHHMFTVGMDVDTRAYFTSATMIIAIPTGVKVFSWLATLHGGNVKWAPAMLWALGFIFLFTVGGLTGIVLANSSLDIVLHDTYYVVAHFHYVLSMGAVFAIMGGFVHWFPLFSGYTLNNTWAKVHFTIMFVGVNMTFFPQHFLGLSGMPRRYSDYPDAYTMWNTVSSMGSFISLTAVMLMAFMIWEAFASKREVLMVESTNTNLEWLHGCPPPYHTFEEPAFVNLVKT\", \"MFTNRWLFSTNHKDIGTLYLLFGAWAGMVGTALSLLIRAELGQPGTLLGDDQIYNVIVTAHAFVMIFFMVMPIMIGGFGNWLVPLMIGAPDMAFPRMNNMSFWLLPPSFLLLLASSMVKAGAGTGWTVYPPLAGNLAHAGASVDLTIFSLHLAGISSILGAINFITTIINMKPPAMNQYQTPLFVWSVLITAVLLLLSLPVLAAGITMLLTDRNLNTTFFDPAGGGDPILYQHLFWFFGHPEVYILILPGFGMISHIVTYYSGKKEPFGYMGMVWAMMSIGFLGFIVWAHHMFTVGMDVDTRAYFTSATMIIAIPTGVKVFSWLATLHGGNVKWAPAMLWALGFIFLFTVGGLTGIVLANSSLDIVLHDTYYVVAHFHYVLSMGAVFAIMGGFVHWFPLFSGYTLNNTWAKVHFTIMFVGVNMTFFPQHFLGLSGMPRRYSDYPDAYTMWNTVSSMGSFISLTAVMLMAFMIWEAFASKREVLMVESTNTNLEWLHGCPPPYHTFEEPAFVNLVKT\") "
   ]
  },
  {
   "cell_type": "code",
   "execution_count": 29,
   "metadata": {},
   "outputs": [
    {
     "name": "stdout",
     "output_type": "stream",
     "text": [
      "MFTNRWLFSTNHKDIGTLYLLFGAWAGMVGTALSLLIRAELGQPGTLLGDDQIYNVIVTAHAFVMIFFMVMPIMIGGFGNWLVPLMIGAPDMAFPRMNNMSFWLLPPSFLLLLASSMVE-AGAGTGWTVYPPLAGNLAHAGASVDLTIFSLHLAGV-SSILGAINFITTIINMKPPAMNQYQTPLFVWSVLITAVLLLLSLPVLAAGITMLLTDRNLNTTFFDPAGGGDPILYQHLFWFFGHPEVYILILPGFGMISHIVTYYSGKKEPFGYMGMVWAMMSIGFLGFIVWAHHMFTVGMDVDTRAYFTSATMIIAIPTGVKVFSWLATLHGGNVKWAPAMLWALGFIFLFTVGGLTGIVLANSSLDIVLHDTYYVVAHFHYVLSMGAVFAIMGGFVHWFPLFSGYTLNNTWAKVHFTIMFVGVNMTFFPQHFLGLSGMPRRYSDYPDAYTMWNTVSSMGSFISLTAVMLMAFMIWEAFASKREVLMVESTNTNLEWLHGCPPPYHTFEEPAFVNLVKT\n",
      "||||||||||||||||||||||||||||||||||||||||||||||||||||||||||||||||||||||||||||||||||||||||||||||||||||||||||||||||||||||  |||||||||||||||||||||||||||||||||||  |||||||||||||||||||||||||||||||||||||||||||||||||||||||||||||||||||||||||||||||||||||||||||||||||||||||||||||||||||||||||||||||||||||||||||||||||||||||||||||||||||||||||||||||||||||||||||||||||||||||||||||||||||||||||||||||||||||||||||||||||||||||||||||||||||||||||||||||||||||||||||||||||||||||||||||||||||||||||||||||||||||||||||||||||||||||||||||||||||||||||\n",
      "MFTNRWLFSTNHKDIGTLYLLFGAWAGMVGTALSLLIRAELGQPGTLLGDDQIYNVIVTAHAFVMIFFMVMPIMIGGFGNWLVPLMIGAPDMAFPRMNNMSFWLLPPSFLLLLASSMV-KAGAGTGWTVYPPLAGNLAHAGASVDLTIFSLHLAG-ISSILGAINFITTIINMKPPAMNQYQTPLFVWSVLITAVLLLLSLPVLAAGITMLLTDRNLNTTFFDPAGGGDPILYQHLFWFFGHPEVYILILPGFGMISHIVTYYSGKKEPFGYMGMVWAMMSIGFLGFIVWAHHMFTVGMDVDTRAYFTSATMIIAIPTGVKVFSWLATLHGGNVKWAPAMLWALGFIFLFTVGGLTGIVLANSSLDIVLHDTYYVVAHFHYVLSMGAVFAIMGGFVHWFPLFSGYTLNNTWAKVHFTIMFVGVNMTFFPQHFLGLSGMPRRYSDYPDAYTMWNTVSSMGSFISLTAVMLMAFMIWEAFASKREVLMVESTNTNLEWLHGCPPPYHTFEEPAFVNLVKT\n",
      "  Score=514\n",
      "\n"
     ]
    }
   ],
   "source": [
    "from Bio.pairwise2 import format_alignment\n",
    "print(format_alignment(*alignments[0]))"
   ]
  },
  {
   "cell_type": "markdown",
   "metadata": {},
   "source": [
    "# ACE2 Receptor Comparison of Malayan vs Chinese Pangolin"
   ]
  },
  {
   "cell_type": "code",
   "execution_count": 30,
   "metadata": {},
   "outputs": [],
   "source": [
    "from Bio import pairwise2\n",
    "alignments = pairwise2.align.globalxx(\"NITNLCPPGEVFNATTFASVYAWNRKRISNCVADYSVLYNSTSPSTFKCYGVSPTKLNDLCFTNVYADSFVVRGDEVRQIAPGQTGRIADYNYKLPDDFTGCVIAWNSNNLDSKVGGNYNYLYRLFRKSNLKPFERDISTEIYQAGSTPCNGVEGFNCYFPLQSYGFHPTNGVGYQPYRVVVLSFELLNAPATV\", \"NITNLCPFGEVFNASKFASVYAWNRKRISNCVADYSVLYNSTSFSTFKCYGVSPTKLNDLCFTNVYADSFVVKGDEVRQIAPGQTGVIADYNYKLPDDFTGCVIAWNSVKQDALTGDNYGYLYRLFRKSKLKPFERDISTEIUQAGSTPCNGQVGLNCYYPLERYGFHPTTGVNYQPFRVVVLSFELLNGPATV\") "
   ]
  },
  {
   "cell_type": "code",
   "execution_count": 31,
   "metadata": {
    "scrolled": true
   },
   "outputs": [
    {
     "name": "stdout",
     "output_type": "stream",
     "text": [
      "NITNLCPP-GEVFNATT--FASVYAWNRKRISNCVADYSVLYNSTSP-STFKCYGVSPTKLNDLCFTNVYADSFVVR-GDEVRQIAPGQTGR-IADYNYKLPDDFTGCVIAWNSNNLDSKVG------G-NYN-YLYRLFRKSN-LKPFERDISTEIY-QAGSTPCNG-VEGF-NCYF-PLQS--YGFHPTN-GVG-YQPY-RVVVLSFELLNA-PATV\n",
      "|||||| | ||||||    |||||||||||||||||||||||||||  ||||||||||||||||||||||||||||  |||||||||||||  |||||||||||||||||||   |  | |       | ||  |||||||||  ||||||||||||  ||||||||| | |  |||  ||    ||||||  ||  |||  |||||||||||  ||||\n",
      "NITNLC-PFGEVFNA--SKFASVYAWNRKRISNCVADYSVLYNSTS-FSTFKCYGVSPTKLNDLCFTNVYADSFVV-KGDEVRQIAPGQTG-VIADYNYKLPDDFTGCVIAW---N--S-V-KQDALTGDNY-GYLYRLFRKS-KLKPFERDISTEI-UQAGSTPCNGQV-G-LNCY-YPL--ERYGFHPT-TGV-NYQP-FRVVVLSFELLN-GPATV\n",
      "  Score=169\n",
      "\n"
     ]
    }
   ],
   "source": [
    "from Bio.pairwise2 import format_alignment\n",
    "print(format_alignment(*alignments[0]))"
   ]
  },
  {
   "cell_type": "markdown",
   "metadata": {},
   "source": [
    "# ACE2 Receptor Comparison of Malayan Pangolin vs Labrador"
   ]
  },
  {
   "cell_type": "code",
   "execution_count": 32,
   "metadata": {},
   "outputs": [],
   "source": [
    "from Bio import pairwise2\n",
    "alignments = pairwise2.align.globalxx(\"NITNLCPPGEVFNATTFASVYAWNRKRISNCVADYSVLYNSTSPSTFKCYGVSPTKLNDLCFTNVYADSFVVRGDEVRQIAPGQTGRIADYNYKLPDDFTGCVIAWNSNNLDSKVGGNYNYLYRLFRKSNLKPFERDISTEIYQAGSTPCNGVEGFNCYFPLQSYGFHPTNGVGYQPYRVVVLSFELLNAPATV\", \"MSGSSWLLLSLAALTAAQSTEDLVKTFLEKFNYEAEELSYQSSLASWNYNINITDENVQKMNNAGAKWSAFYEEQSKLAKTYPLEEIQDSTVKRQLRALQHSGSSVLSADKNQRLNTILNSMSTVYSTGKACNPSNPQECLLLEPGLDDIMENSKDYNERLWAWEGWRSEVGKQLRPLYEEYVALKNEMARANNYEDYGDYWRGDYEEEWENGYNYSRNQLIDDVELTFTQIMPLYQHLHAYVRTKLMDTYPSYISPTGCLPAHLLGDMWGRFWTNLYPLTVPFGQKPNIDVTNAMVNQSWDARKIFKEAEKFFVSVGLPNMTQEFWGNSMLTEPSDSRKVVCHPTAWDLGKGDFRIKMCTKVTMDDFLTAHHEMGHIQYDMAYAAQPFLLRNGANEGFHEAVGEIMSLSAATPNHLKNIGLLPPSFFEDSETEINFLLKQALTIVGTLPFTYMLEKWRWMVFKGEIPKDQWMKTWWEMKRNIVGVVEPVPHDETYCDPASLFHVANDYSFIRYYTRTIYQFQFQEALCQIAKHEGPLHKCDISNSSEAGQKLLEMLKLGKSKPWTYALEIVVGAKNMDVRPLLNYFEPLFTWLKEQNRNSFVGWNTDWSPYADQSIKVRISLKSALGEKAYEWNNNEMYLFRSSIAYAMRQYFSEVKNQTIPFVEDNVWVSDLKPRISFNFSVTSPGNVSDIIPRTEVEEAIRMYRSRINDVFRLDDNSLEFLGIQPTPGPPYEPPVTIWLIVFGVVMGVVVVGIVLLIFSGIRNRRKNDQARGEENPYASVDLSKGENNPGFQSGDDVQTSF\") "
   ]
  },
  {
   "cell_type": "code",
   "execution_count": 33,
   "metadata": {
    "scrolled": true
   },
   "outputs": [
    {
     "name": "stdout",
     "output_type": "stream",
     "text": [
      "NITNLCPP--GEVFN--------A--T----T------F-------A---SVY----A-WNRKR--ISNC-----V-----ADY----SVL--YN---S----TS-P------STF-KCY---------G--V-SPT--KLND--LCF-T--N----VY----A----------------D-----SF----------------V-----------V-------R-------GD------EV----------R-Q-IAPGQ-----TGR---I--------A-------D-YN--YK------LPD-----D----F-TGC------V-------I----AW--N-S--------------------N-------N--L----DS-KV---------G-GN--------------------------YN---Y-----LYRLFRK---------------S------N-LK-----P--F-ERDIS-TEIY-----QA----GST-PC-------------------------------N--GV-EG--------------F---NC-Y-F-------------------------PL------------Q----------S----Y------G------------FH-P--T-----N-----G--------------V--------G---Y-------------------QPY-----------------------R------V-----V--------V----------------L---S--F-----------E------L---------------L-------N------A-----P-AT-V---------------------\n",
      "          |            |  |    |      |       |   | |    | ||     | |      |     |      |    |    |    |  |      ||  |           |  | |    | |   |   |  |    ||    |                |     |                 |           |       |       ||      |           | | |         |     |        |       | |   |       ||      |    | |        |       |    |   | |                    |       |  |    || ||         | |                           |    |     |  | |                |      | ||     |  | | | | |||      ||    | | |                                |  || |               |   |  | |                         ||            |          |    |      |            |  |  |     |     |              |        |   |                   | |                       |      |     |        |                |   |  |           |      |               |       |      |     | |  |                     \n",
      "--------MSG----SSWLLLSLAALTAAQSTEDLVKTFLEKFNYEAEELS-YQSSLASWN---YNI-N-ITDENVQKMNNA--GAKWS--AFY-EEQSKLAKT-YPLEEIQDST-VK--RQLRALQHSGSSVLS--ADK-N-QRL--NTILNSMSTVYSTGKACNPSNPQECLLLEPGLDDIMENS-KDYNERLWAWEGWRSEVGKQLRPLYEEYVALKNEMARANNYEDYGDYWRGDYE-EEWENGYNYSRNQLI----DDVELT--FTQIMPLYQHLHAYVRTKLMDTY-PSY-ISPTGCLP-AHLLGDMWGRFWT--NLYPLTVPFGQKPNIDVTNA-MVNQSWDARKIFKEAEKFFVSVGLPNMTQEFWGNSMLTEPSDSRKVVCHPTAWDLGKG-DFRIKMCTKVTMDDFLTAHHEMGHIQY-DMAYAAQPFL--L-R-NGANEGFHEAVGEIMSLSAATPNHLKNIGLLPPSFFE-D-SETEI-NFLLKQALTIVG-TLP-FTYMLEKWRWMVFKGEIPKDQWMKTWWEMKRNIVGVVE-PVPHDETYCDPASLFHVAN-DYSFIRYYTRTIYQFQFQEALCQIAKHEGPLHKCDISNSSEAGQKLLEMLKLGKSKPWTYALEIVVGAKNMDVRPLLNYF-EPLFTWLKEQNRNSFVGWNTDWSPYADQSIKVRISLKSALGEKAYEWNNNEMYLFRSSIAYAMRQ-YFSEVKNQTIPFVEDNVWVSDLKPRISFNFSVTSPGNVSDIIPRTEVEEAIRMYRSRINDVFRLDDNSLEFLGIQPTPGPPYEPPVTIWLIVFGVVMGVVVVGIVLLIFSGIRNRRKNDQARGEENPYA-SVDLSKGENNPGFQSGDDVQTSF\n",
      "  Score=131\n",
      "\n"
     ]
    }
   ],
   "source": [
    "from Bio.pairwise2 import format_alignment\n",
    "print(format_alignment(*alignments[0]))"
   ]
  },
  {
   "cell_type": "markdown",
   "metadata": {},
   "source": [
    "# ACE2 Receptor Comparison of Malayan Pangolin vs Humans"
   ]
  },
  {
   "cell_type": "code",
   "execution_count": 34,
   "metadata": {},
   "outputs": [],
   "source": [
    "from Bio import pairwise2\n",
    "alignments = pairwise2.align.globalxx(\"NITNLCPPGEVFNATTFASVYAWNRKRISNCVADYSVLYNSTSPSTFKCYGVSPTKLNDLCFTNVYADSFVVRGDEVRQIAPGQTGRIADYNYKLPDDFTGCVIAWNSNNLDSKVGGNYNYLYRLFRKSNLKPFERDISTEIYQAGSTPCNGVEGFNCYFPLQSYGFHPTNGVGYQPYRVVVLSFELLNAPATV\", \"MSSSSWLLLSLVAVTAAQSTIEEQAKTFLDKFNHEAEDLFYQSSLASWNYNTNITEENVQNMNNAGDKWSAFLKEQSTLAQMYPLQEIQNLTVKLQLQALQQNGSSVLSEDKSKRLNTILNTMSTIYSTGKVCNPDNPQECLLLEPGLNEIMANSLDYNERLWAWESWRSEVGKQLRPLYEEYVVLKNEMARANHYEDYGDYWRGDYEVNGVDGYDYSRGQLIEDVEHTFEEIKPLYEHLHAYVRAKLMNAYPSYISPIGCLPAHLLGDMWGRFWTNLYSLTVPFGQKPNIDVTDAMVDQAWDAQRIFKEAEKFFVSVGLPNMTQGFWENSMLTDPGNVQKAVCHPTAWDLGKGDFRILMCTKVTMDDFLTAHHEMGHIQYDMAYAAQPFLLRNGANEGFHEAVGEIMSLSAATPKHLKSIGLLSPDFQEDNETEINFLLKQALTIVGTLPFTYMLEKWRWMVFKGEIPKDQWMKKWWEMKREIVGVVEPVPHDETYCDPASLFHVSNDYSFIRYYTRTLYQFQFQEALCQAAKHEGPLHKCDISNSTEAGQKLFNMLRLGKSEPWTLALENVVGAKNMNVRPLLNYFEPLFTWLKDQNKNSFVGWSTDWSPYADQSIKVRISLKSALGDKAYEWNDNEMYLFRSSVAYAMRQYFLKVKNQMILFGEEDVRVANLKPRISFNFFVTAPKNVSDIIPRTEVEKAIRMSRSRINDAFRLNDNSLEFLGIQPTLGPPNQPPVSIWLIVFGVVMGVIVVGIVILIFTGIRDRKKPTPLLGKSWLTAILKD\") "
   ]
  },
  {
   "cell_type": "code",
   "execution_count": 35,
   "metadata": {},
   "outputs": [
    {
     "name": "stdout",
     "output_type": "stream",
     "text": [
      "N--------------------I-----TN-LCPPGEV--FN--ATT---F-----ASV--Y--------------A---W--------------------NR---K--------------------R---I----S---------N------CV-----------A---DY--------S----V---L---Y-------N-----------------------------S----------T------------------------S---P---------------------S-T--FKCYG------V-----------------------S---P--TK--------L----N-----------DLC----F-----TN-VY-------A---------DS-------FVV--R-GD--E-----VRQ--I----A--P------G------Q----T-------------G-----------R-------IA--DYNY---KL--------------P---D----D----F------------T-------------------G----CV-I-----AW-----N------S--------N-----N-----L------------DS--K---VG-----------------------GN---Y--N----YL------Y--R---L--------F-----RKS--NLKPFERDIS-----TEIYQAGSTPC-NGV-------EGF------------NCY--FP-LQ---SYG--FH----PT----N-----------GV--GYQPYRV-VV----LS-FE-----------LLNAPA-----TV-----\n",
      "                     |     |  |        ||  |     |     ||   |              |   |                    |    |                    |   |    |         |      |            |   ||        |    |   |   |       |                             |          |                        |   |                     | |  |   |      |                       |   |  |         |    |           ||     |     |  |        |         |        |    | |   |     |    |    |  |      |      |    |             |           |       |   |      |               |   |    |    |            |                   |    |  |     |      |      |        |     |     |            |   |   ||                       |    |  |    ||      |  |   |        |     |    ||||  | ||     |    |   |  | |       |              |    |  |    |    |     ||    |           ||  |     | ||    |  |            ||         |      \n",
      "-MSSSSWLLLSLVAVTAAQSTIEEQAKT-FL------DKFNHEA--EDLFYQSSLAS-WNYNTNITEENVQNMNNAGDKWSAFLKEQSTLAQMYPLQEIQN-LTVKLQLQALQQNGSSVLSEDKSKRLNTILNTMSTIYSTGKVCNPDNPQEC-LLLEPGLNEIMANSLDYNERLWAWESWRSEVGKQLRPLYEEYVVLKNEMARANHYEDYGDYWRGDYEVNGVDGYDYSRGQLIEDVEHTFEEIKPLYEHLHAYVRAKLMNAYPSYISPIGCLPAHLLGDMWGRFWTNLYSLTVPF---GQKPNIDVTDAMVDQAWDAQRIFKEAEKFFVSVGLPNMT-QGFWENSMLTDPGNVQKAVCHPTAWDL-GKGDFRILMCT-KV-TMDDFLTAHHEMGHIQYD-MAYAAQPF--LLRNG-ANEGFHEAV--GEIMSLSAATPKHLKSIGLLSPDFQEDNETEINFLLKQALTIVGTLPFTYMLEKWRWMVFKGEI-PKD---QWMK-KWWEMKREIVGVVEPVPHDETYCDPASLFHVSNDYSFIRYYTRTLYQFQFQEALCQAAKHEGPLHKC-DISNSTEA-GQKLFNMLRLGKSEPWTLALENVVGAKNMNVRPLLNYFEPLFTWLKD-QNKNSFVGWSTDWSPYADQSIKVRISLKSALG-DKAYEWNDNEMYLFRSSVAYAMRQYFLKVKNQMILFGEEDVR--VANLKP--R-ISFNFFVT----A---P-KN-VSDIIPRTE--VEKAIRMSRSRIN--DAF-RL-NDNS--LEF-LGIQPTLGPPNQPPVSIWLIVFGVVMG-----VIVVGIVIL-IF-TGIRDRKKPTPLL----GKSWLT-AILKD\n",
      "  Score=124\n",
      "\n"
     ]
    }
   ],
   "source": [
    "from Bio.pairwise2 import format_alignment\n",
    "print(format_alignment(*alignments[0]))"
   ]
  },
  {
   "cell_type": "markdown",
   "metadata": {},
   "source": [
    "# ACE2 Receptor Comparison of Malayan Pangolin vs Cattle"
   ]
  },
  {
   "cell_type": "code",
   "execution_count": 36,
   "metadata": {},
   "outputs": [],
   "source": [
    "from Bio import pairwise2\n",
    "alignments = pairwise2.align.globalxx(\"NITNLCPPGEVFNATTFASVYAWNRKRISNCVADYSVLYNSTSPSTFKCYGVSPTKLNDLCFTNVYADSFVVRGDEVRQIAPGQTGRIADYNYKLPDDFTGCVIAWNSNNLDSKVGGNYNYLYRLFRKSNLKPFERDISTEIYQAGSTPCNGVEGFNCYFPLQSYGFHPTNGVGYQPYRVVVLSFELLNAPATV\", \"MTGSFWLLLSLVAVTAAQSTTEEQAKTFLEKFNHEAEDLSYQSSLASWNYNTNITDENVQKMNEARAKWSAFYEEQSRMAKTYSLEEIQNLTLKRQLKALQHSGTSALSAEKSKRLNTILNKMSTIYSTGKVLDPNTQECLALEPGLDDIMENSRDYNRRLWAWEGWRAEVGKQLRPLYEEYVVLENEMARANNYEDYGDYWRGDYEVTGAGDYDYSRDQLMKDVERTFAEIKPLYEQLHAYVRAKLMHTYPSYISPTGCLPAHLLGDMWGRFWTNLYSLTVPFEHKPSIDVTEKMENQSWDAERIFKEAEKFFVSISLPYMTQGFWDNSMLTEPGDGRKVVCHPTAWDLGKGDFRIKMCTKVTMDDFLTAHHEMGHIQYDMAYAAQPYLLRNGANEGFHEAVGEIMSLSAATPHYLKALGLLAPDFHEDNETEINFLLKQALTIVGTLPFTYMLEKWRWMVFKGEIPKQQWMEKWWEMKREIVGVVEPLPHDETYCDPACLFHVAEDYSFIRYYTRTIYQFQFHEALCKTAKHEGALFKCDISNSTEAGQRLLQMLRLGKSEPWTLALENIVGIKTMDVKPLLNYFEPLFTWLKEQNRNSFVGWSTEWTPYSDQSIKVRISLKSALGENAYEWNDNEMYLFQSSVAYAMRKYFSEARNETVLFGEDNVWVSDKKPRISFKFFVTSPNNVSDIIPRTEVENAIRLSRDRINDVFQLDDNSLEFLGIQPTLGPPYEPPVTIWLIIFGVVMGVVVIGIVVLIFTGIRNRRKHDNDGLQNDENLRVQQQAVKVDISRNSLKAPVPFSNSHEKLK\") "
   ]
  },
  {
   "cell_type": "code",
   "execution_count": 37,
   "metadata": {},
   "outputs": [
    {
     "name": "stdout",
     "output_type": "stream",
     "text": [
      "NI-TNLCPPGEV-FN-------A-T----T-------F-------A---SVY----A-WNRKR----IS---NCV-----AD-------Y---SVL-----Y------N------------S-TSP--S--------TF---KC----Y--G-VS--P-TK---L-----------N--DLCFT-N------------V-------YADSF---VV------R-------GD------EV---------R-QI---------A---PG---QTG-----R----------I-------A----DY-------N-YK-L--P-------D----------D----FTGC-------V-IA---------W-NSNN-L----DS--KV---------G-GN--------------------------YN---YL----YRLF-RK---------------S----------------------N------L-K---------PF----E--RD-------IS---------------------------T-----------E----I-Y------Q-----A--------G-------S--T----------------PC------N--G-----V-------EG--F------NCY---F--------P-----------L-------------------QS---Y----------------G--------------FH------P---------T---NG-----------V-----------GY-QP-----YR---V--------VV----------LS-FE-------------L-----L-------------N---APATV----------\n",
      "   |     |   |        | |    |       |       |   | |    | ||       |    | |     |        |   |       |      |            | ||   |        |    |     |  | |   | |    |           |  |     |            |       |       ||      |       ||      ||         | |          |   |    |       |          |       |    |        | |  |  |       |          |    |          | |          | ||   |    |   ||         | |                           |    |     | |  |                |                      |      | |         ||    |  |        |                            |           |    | |      |     |        |       |  |                |       |  |     |       |   |      |     |        |           |                   ||   |                |              |       |         |   |            |           |  ||     |    |        ||          |  |              |     |             |   ||  |          \n",
      "--MT-----G--SF-WLLLSLVAVTAAQSTTEEQAKTFLEKFNHEAEDLS-YQSSLASWN---YNTNI-TDEN-VQKMNEA-RAKWSAFYEEQS--RMAKTYSLEEIQNLTLKRQLKALQHSGTS-ALSAEKSKRLNT-ILNK-MSTIYSTGKV-LDPNT-QECLALEPGLDDIMENSRD----YNRRLWAWEGWRAEVGKQLRPLY----EEYVVLENEMARANNYEDYGDYWRGDYEVTGAGDYDYSRDQ-LMKDVERTFAEIKP-LYEQ--LHAYVRAKLMHTYPSYISPTGCLPAHLLGD-MWGRFWTNLY-SLTVPFEHKPSIDVTEKMENQSWDAERIF---KEAEKFFVSI-SLPYMTQGFWDNS--MLTEPGD-GRKVVCHPTAWDLGKG-DFRIKMCTKVTMDDFLTAHHEMGHIQY-DMAY-AAQPY-L-LR-NGANEGFHEAVGEIMSLSAATPHYLKALGLLAPDFHEDNETEINFLLKQALTIVGTLPFTYMLEKWR-WMVFKGEI-PKQQWMEKWWEMKREIVGVVEPLPHDETYCDPACLFHVAEDYSFIRYYTRTIYQFQFHEALCKTAKHEGALFKCDISNSTEAGQRLLQMLRLGKSEP-WTLALENIVGIKTMDVKPLLNYFE-PLFTWLKEQN--RNSFVGWSTEWTPYSDQSIKVRISLKSALGENAYEWNDNEMYLFQSSVAYAMRKYFSEARNETVLFGEDNVWVSDKKPRISF-KFFVTSPNNVSDIIPRTEVEN-AIRLSRDRINDVFQLDDNSLEFLG-IQPTLGPPY-EPPVTIWLIIFGVVMGVVVIGIVVL-IF-TGIRNRRKHDNDGLQNDENLRVQQQAVKVDISRNSLKAP--VPFSNSHEKLK\n",
      "  Score=129\n",
      "\n"
     ]
    }
   ],
   "source": [
    "from Bio.pairwise2 import format_alignment\n",
    "print(format_alignment(*alignments[0]))"
   ]
  },
  {
   "cell_type": "markdown",
   "metadata": {},
   "source": [
    "### Heatmap Comparison of Different Animals in Different Locations"
   ]
  },
  {
   "cell_type": "code",
   "execution_count": 104,
   "metadata": {},
   "outputs": [],
   "source": [
    "Dog = [131,0,0,0,0]\n",
    "Cattle = [129,0,0,0,0]\n",
    "Human = [124,0,0,0,0]\n",
    "Chinese_Pangolin = [169,318,514,0,0]\n",
    "Malayan_Pangolin = [194,318,518,0,0]\n",
    "\n",
    "research = {\"Dog\":Dog, \"Cattle\":Cattle, \"Human\":Human, \"Chinese Pangolin\":Chinese_Pangolin, \"Malayan Pangolin\":Malayan_Pangolin}\n",
    "\n",
    "import seaborn as sns\n",
    "import pandas as pd\n",
    "import numpy as np\n",
    "import matplotlib.pyplot as plt"
   ]
  },
  {
   "cell_type": "code",
   "execution_count": 105,
   "metadata": {},
   "outputs": [
    {
     "data": {
      "image/png": "[encoded data removed]",
      "text/plain": [
       "<Figure size 432x288 with 2 Axes>"
      ]
     },
     "metadata": {
      "needs_background": "light"
     },
     "output_type": "display_data"
    }
   ],
   "source": [
    "\n",
    "data = pd.DataFrame(research, columns = [\"Dog\",\"Cattle\",\"Human\",\"Chinese Pangolin\", \"Malayan Pangolin\"])\n",
    "\n",
    "sns.heatmap(data, yticklabels = ['ACE2','NADH dehydrogenase subunit 1', 'Cytochrome C Oxidase subunit 1']) \n",
    "\n",
    "plt.show()\n"
   ]
  },
  {
   "cell_type": "markdown",
   "metadata": {},
   "source": [
    "# Analysis of Results"
   ]
  },
  {
   "cell_type": "markdown",
   "metadata": {},
   "source": [
    "The plot above shows the comparison of the Chinese Pangolin sequence scores in comparison to the Malayan Pangolin sequence, as well as comparisons of the ACE2 receptor with Humans, Cattle, and Dogs by showing the different scores of the sequence alignment in tandem with the colors, with the darker the color, the less score difference there is, while the lighter colors show the sequence was more prone to higher change in scores, meaning the pangolin sequences were much different. The plot above also sets the Human, Cattle, and Dog to null for the other comparisons of the other sequences that are more specified towards Chinese and Malayan Pangolins as to prevent accidental overlap. "
   ]
  }
 ],
 "metadata": {
  "kernelspec": {
   "display_name": "Python 3",
   "language": "python",
   "name": "python3"
  },
  "language_info": {
   "codemirror_mode": {
    "name": "ipython",
    "version": 3
   },
   "file_extension": ".py",
   "mimetype": "text/x-python",
   "name": "python",
   "nbconvert_exporter": "python",
   "pygments_lexer": "ipython3",
   "version": "3.8.5"
  }
 },
 "nbformat": 4,
 "nbformat_minor": 4
}
